{
 "metadata": {
  "name": "",
  "signature": "sha256:e13d449339cf37339c5fa11b10369824faaa4b5721d9a33f124ae0ff7e3a6fb7"
 },
 "nbformat": 3,
 "nbformat_minor": 0,
 "worksheets": [
  {
   "cells": [
    {
     "cell_type": "code",
     "collapsed": false,
     "input": [
      "from IPython.core.display import HTML\n",
      "HTML(\"\"\"\n",
      "<style>\n",
      "    *{\n",
      "    font-size : 20px;\n",
      "    }\n",
      "</style>\n",
      "\"\"\")"
     ],
     "language": "python",
     "metadata": {},
     "outputs": [
      {
       "html": [
        "\n",
        "<style>\n",
        "    *{\n",
        "    font-size : 20px;\n",
        "    }\n",
        "</style>\n"
       ],
       "metadata": {},
       "output_type": "pyout",
       "prompt_number": 2,
       "text": [
        "<IPython.core.display.HTML at 0x7fa79da72f50>"
       ]
      }
     ],
     "prompt_number": 2
    },
    {
     "cell_type": "markdown",
     "metadata": {},
     "source": [
      "#Linear Regression Work Shop"
     ]
    },
    {
     "cell_type": "markdown",
     "metadata": {},
     "source": [
      "##Outline"
     ]
    },
    {
     "cell_type": "markdown",
     "metadata": {},
     "source": [
      "* Demo\n",
      "* Linear regression (not that deep, sufficient for implmentation. Watch the video!)\n",
      "* Basic vector operation (Maths)\n",
      "* Vector op in numpy\n",
      "* Code\n",
      "\n",
      "I recommend to watch this series, it is sufficient for complete beginners in ML  \n",
      "https://www.youtube.com/watch?v=kHwlB_j7Hkc&list=PLLssT5z_DsK-h9vYZkQkYNWcItqhlRJLN&index=4  \n",
      "Andrew ng (Linear regression uptil video 10 i guess!)  \n",
      "\n",
      "And ,this python notebook along with all the code that is required is on my github repo  \n",
      "Link - https://github.com/ankitesh97/LinearRegressionWS"
     ]
    },
    {
     "cell_type": "markdown",
     "metadata": {},
     "source": [
      "### Modules\n",
      "\n",
      "pip install flask  \n",
      "pip install numpy  \n",
      "pip install pandas  \n",
      "\n",
      "Windows!\n",
      "try above or use anaconda"
     ]
    },
    {
     "cell_type": "markdown",
     "metadata": {},
     "source": [
      "# What is Machine learning?\n",
      "\n",
      "First let's watch a [video](https://youtu.be/ty-kTUzMnjk)\n",
      "\n",
      "* Supervised Learning\n",
      "    * Regression\n",
      "    * Classification\n",
      "* Unsupervised Learning"
     ]
    },
    {
     "cell_type": "markdown",
     "metadata": {},
     "source": [
      "# Linear Regression\n",
      "\n",
      "##Overview"
     ]
    },
    {
     "cell_type": "markdown",
     "metadata": {},
     "source": [
      "### What is Regression Problem?\n",
      "\n",
      "In regression problem the goal of the algorithm is to predict real-valued output."
     ]
    },
    {
     "cell_type": "markdown",
     "metadata": {},
     "source": [
      "#### What is regression?\n",
      "Before we continue to focus topic i.e. \u201cLinear Regression\u201d lets first know what we mean by Regression. Regression is a statistical way to establish a relationship between a dependent variable and a set of independent variable(s). e.g., if we say that  \n",
      "\n",
      "**Age = 5 + Height * 10 + Weight * 13**\n",
      "\n",
      "Here we are establishing a relationship between Height & Weight of a person with his/ Her Age. This is a very basic example of Regression."
     ]
    },
    {
     "cell_type": "markdown",
     "metadata": {},
     "source": [
      "### Model Representation\n",
      "\n",
      "Below points are of  \n",
      "X - the amount of hours the students study  \n",
      "y - The test score they got  \n",
      "\n",
      "There must be some relation!!  \n",
      "\n",
      "After fitting a good \"generalized line\" you can then predict the score based on the student's marks\n"
     ]
    },
    {
     "cell_type": "markdown",
     "metadata": {},
     "source": [
      "<img src=\"https://raw.githubusercontent.com/mattnedrich/GradientDescentExample/master/gradient_descent_example.gif\">"
     ]
    },
    {
     "cell_type": "markdown",
     "metadata": {},
     "source": [
      "This is an example of supreviesed learning    \n",
      "i.e Given the actual output for the input, then you train your model (Here you are fitting a line) and finally you predict for new input  \n",
      "Also this is the case of regression problem and not classification since you are predicting real valued output"
     ]
    },
    {
     "cell_type": "markdown",
     "metadata": {},
     "source": [
      "**Let's define it formally via notations**\n",
      "\n",
      "You have training set of test scores\n",
      "\n",
      "| Hours of study (x) | Test Score (y) |\n",
      "|----------------|:----------:|\n",
      "|  40            |  30 |\n",
      "|  60            |  50 |\n",
      "|  43            | 40  |\n",
      " \n",
      "and so on..\n",
      "\n",
      "Notations:  \n",
      "m = #training examples  \n",
      "x's = \"input\" variable/features                           \n",
      "y's = \"output\" varibale/ \"target\" variable  \n",
      "\n",
      "notation for one training example = (x,y)  \n",
      "for i'th training example (on board)\n"
     ]
    },
    {
     "cell_type": "markdown",
     "metadata": {},
     "source": [
      "### How does the supervised learning algorithm works?"
     ]
    },
    {
     "cell_type": "markdown",
     "metadata": {},
     "source": [
      "<img src=\"images_ws/supervised.png\" height=\"400\" width=\"400\">"
     ]
    },
    {
     "cell_type": "markdown",
     "metadata": {},
     "source": [
      "##How to represent h?\n"
     ]
    },
    {
     "cell_type": "markdown",
     "metadata": {},
     "source": [
      "<img src=\"images_ws/hypothesis.png\" height=\"400\" width=\"400\">"
     ]
    },
    {
     "cell_type": "markdown",
     "metadata": {},
     "source": [
      "##How to fit the line?"
     ]
    },
    {
     "cell_type": "markdown",
     "metadata": {},
     "source": [
      "###Cost Function"
     ]
    },
    {
     "cell_type": "markdown",
     "metadata": {},
     "source": [
      "(Teacher student analogy)\n",
      "\n",
      "Our hypothetis form (on board)  \n",
      "\n",
      "More notations:  \n",
      "\n",
      "theta's here are called parameters, basically we need to get the parameters that gives us the best prediction!!   \n",
      "  \n",
      "before moving ahead let's see how the line varies if we vary the prameters!\n"
     ]
    },
    {
     "cell_type": "markdown",
     "metadata": {},
     "source": [
      "<img src=\"images_ws/hypothesis_variation2.png\" height=\"600\" width=\"900\">"
     ]
    },
    {
     "cell_type": "markdown",
     "metadata": {},
     "source": [
      "###How to choose parameters"
     ]
    },
    {
     "cell_type": "markdown",
     "metadata": {},
     "source": [
      "<img src=\"images_ws/idea_func.png\" height=\"800\" width=\"800\">"
     ]
    },
    {
     "cell_type": "markdown",
     "metadata": {},
     "source": [
      "##."
     ]
    },
    {
     "cell_type": "markdown",
     "metadata": {},
     "source": [
      "**let's write it more formally** (on board)"
     ]
    },
    {
     "cell_type": "markdown",
     "metadata": {},
     "source": [
      "<img src=\"images_ws/formally.png\" height=\"400\" width=\"400\">"
     ]
    },
    {
     "cell_type": "markdown",
     "metadata": {},
     "source": [
      "###Any doubts!!?"
     ]
    },
    {
     "cell_type": "markdown",
     "metadata": {},
     "source": [
      "###Let's dig deeper in the cost function"
     ]
    },
    {
     "cell_type": "markdown",
     "metadata": {},
     "source": [
      "### Watch ng's video for more clarity and deeper understanding (since he plot's in 3d) (I'll be showing in 2d)"
     ]
    },
    {
     "cell_type": "markdown",
     "metadata": {},
     "source": [
      "Let's review our stand"
     ]
    },
    {
     "cell_type": "markdown",
     "metadata": {},
     "source": [
      "<img src=\"images_ws/goal.png\" height=\"700\" width=\"700\">"
     ]
    },
    {
     "cell_type": "markdown",
     "metadata": {},
     "source": [
      "Plot of Cost vs param (only 1) (on board)"
     ]
    },
    {
     "cell_type": "markdown",
     "metadata": {},
     "source": [
      "## How to solve the minimization problem?"
     ]
    },
    {
     "cell_type": "markdown",
     "metadata": {},
     "source": [
      "### Gradient descent"
     ]
    },
    {
     "cell_type": "markdown",
     "metadata": {},
     "source": [
      "Visit [link](https://www.analyticsvidhya.com/blog/2017/03/introduction-to-gradient-descent-algorithm-along-its-variants/) for a question"
     ]
    },
    {
     "cell_type": "markdown",
     "metadata": {},
     "source": [
      "Let's define the algorithm!  \n",
      "Gradient descent is a first-order iterative optimization algorithm for finding the minimum of a function. "
     ]
    },
    {
     "cell_type": "markdown",
     "metadata": {},
     "source": [
      "<img src=\"images_ws/formal_gd.png\" height=\"700\" width=\"700\">"
     ]
    },
    {
     "cell_type": "markdown",
     "metadata": {},
     "source": [
      "Visit the above link again for 3d plot\n",
      "\n",
      "  \n",
      "\n",
      "  \n",
      "\n",
      "Let's define Gradient descent more formally"
     ]
    },
    {
     "cell_type": "markdown",
     "metadata": {},
     "source": [
      "<img src=\"images_ws/gd_algo.png\" height=\"700\" width=\"700\">"
     ]
    },
    {
     "cell_type": "markdown",
     "metadata": {},
     "source": [
      "Let's se gd more deeply\n",
      "\n",
      "terms:  \n",
      "learning rate   \n",
      "The derivative term  \n",
      "Let's how do they affect our update  "
     ]
    },
    {
     "cell_type": "markdown",
     "metadata": {},
     "source": [
      "**How does the derivative term affect the update**  \n",
      "(theta v J(theta) graph and how does the derivative affect it)(on board)\n",
      "<img src=\"images_ws/thetavjtheta.png\" height=\"700\" width=\"700\">"
     ]
    },
    {
     "cell_type": "markdown",
     "metadata": {},
     "source": [
      "**How does learning rate affect the update**  \n",
      "(on board (values of alpha vs Error)  \n",
      "\n",
      "(after this give implementation notes, i.e manual implementation vs library implmentation)"
     ]
    },
    {
     "cell_type": "markdown",
     "metadata": {},
     "source": [
      "## Enough Gradient Descent!! Now let's apply GD for liner regression"
     ]
    },
    {
     "cell_type": "markdown",
     "metadata": {},
     "source": [
      "Our aim\n",
      "<img src=\"images_ws/gdlinear.png\" height=\"700\" width=\"700\">"
     ]
    },
    {
     "cell_type": "markdown",
     "metadata": {},
     "source": [
      "**Time to put your maths hat on**\n",
      "\n",
      "Bascially to figure out the update rule for our gd we will need to figure out the deravative term!!!\n",
      "Try to derive it yourself."
     ]
    },
    {
     "cell_type": "markdown",
     "metadata": {},
     "source": [
      "### Our final algo for gd for linear regression\n",
      "<img src=\"images_ws/finalalgo.png\" height=\"700\" width=\"700\">"
     ]
    },
    {
     "cell_type": "markdown",
     "metadata": {},
     "source": [
      "## Linear regression with multiple features"
     ]
    },
    {
     "cell_type": "markdown",
     "metadata": {},
     "source": [
      "Let's modify our existing linear model to make it suitable for linear reg with multiple variables  (on board)\n",
      "About feature scaling for gd (watch andrew ng's video)  \n",
      "Changes:  \n",
      "hypothesis  \n",
      "gradient descent  "
     ]
    },
    {
     "cell_type": "markdown",
     "metadata": {},
     "source": [
      "## Matrices Recap"
     ]
    },
    {
     "cell_type": "markdown",
     "metadata": {},
     "source": [
      "* vector addition (row vector)\n",
      "* vector element wise product (row vector)\n",
      "* What is a transpose of a matrix\n",
      "* Matrix multiplication (dot product)"
     ]
    },
    {
     "cell_type": "markdown",
     "metadata": {},
     "source": [
      "## Vectorize Linear regression with multiple variable (on board)"
     ]
    },
    {
     "cell_type": "code",
     "collapsed": false,
     "input": [],
     "language": "python",
     "metadata": {},
     "outputs": []
    },
    {
     "cell_type": "code",
     "collapsed": false,
     "input": [],
     "language": "python",
     "metadata": {},
     "outputs": []
    },
    {
     "cell_type": "code",
     "collapsed": false,
     "input": [],
     "language": "python",
     "metadata": {},
     "outputs": []
    },
    {
     "cell_type": "code",
     "collapsed": false,
     "input": [],
     "language": "python",
     "metadata": {},
     "outputs": []
    },
    {
     "cell_type": "markdown",
     "metadata": {},
     "source": [
      "# Basics of numpy (sufficient for the implementation)"
     ]
    },
    {
     "cell_type": "markdown",
     "metadata": {},
     "source": [
      "**What is numpy**? (talk)"
     ]
    },
    {
     "cell_type": "markdown",
     "metadata": {},
     "source": [
      "**Let's do some coding **  \n",
      "I'll be providing the list of numpy functions that i am going to show"
     ]
    },
    {
     "cell_type": "code",
     "collapsed": false,
     "input": [
      "import numpy as np #import the package"
     ],
     "language": "python",
     "metadata": {},
     "outputs": [],
     "prompt_number": 5
    },
    {
     "cell_type": "markdown",
     "metadata": {},
     "source": [
      "## Arrays and operation on them"
     ]
    },
    {
     "cell_type": "code",
     "collapsed": false,
     "input": [
      "\n",
      "#create an empty array\n",
      "emptyArr = np.array([])\n",
      "print emptyArr"
     ],
     "language": "python",
     "metadata": {},
     "outputs": [
      {
       "output_type": "stream",
       "stream": "stdout",
       "text": [
        "[]\n"
       ]
      }
     ],
     "prompt_number": 6
    },
    {
     "cell_type": "code",
     "collapsed": false,
     "input": [
      "#lets append some values\n",
      "arr = np.append(emptyArr,1)\n",
      "print arr\n",
      "arr = np.append(arr,2)\n",
      "arr = np.append(arr,3)\n",
      "print arr"
     ],
     "language": "python",
     "metadata": {},
     "outputs": [
      {
       "output_type": "stream",
       "stream": "stdout",
       "text": [
        "[ 1.]\n",
        "[ 1.  2.  3.]\n"
       ]
      }
     ],
     "prompt_number": 7
    },
    {
     "cell_type": "code",
     "collapsed": false,
     "input": [
      "#now check the dimension of the array\n",
      "print arr\n",
      "print \"shape is\"\n",
      "print arr.shape"
     ],
     "language": "python",
     "metadata": {},
     "outputs": [
      {
       "output_type": "stream",
       "stream": "stdout",
       "text": [
        "[ 1.  2.  3.]\n",
        "shape is\n",
        "(3,)\n"
       ]
      }
     ],
     "prompt_number": 10
    },
    {
     "cell_type": "code",
     "collapsed": false,
     "input": [
      "#let's do some maths operation on our array\n",
      "#calcualte the sum\n",
      "total = np.sum(arr)\n",
      "print \"sum is \"+ str(total)\n",
      "\n",
      "#square root of individual elemets\n",
      "sqr = np.sqrt(arr)\n",
      "print \"sqrt is\",\n",
      "print sqr"
     ],
     "language": "python",
     "metadata": {},
     "outputs": [
      {
       "output_type": "stream",
       "stream": "stdout",
       "text": [
        "sum is 6.0\n",
        "sqrt is [ 1.          1.41421356  1.73205081]\n"
       ]
      }
     ],
     "prompt_number": 12
    },
    {
     "cell_type": "markdown",
     "metadata": {},
     "source": [
      "## Operation between two 1d arrays"
     ]
    },
    {
     "cell_type": "code",
     "collapsed": false,
     "input": [
      "#create two arrays using another way\n",
      "ar1 = [1,2,3,4,5]\n",
      "ar2 = [6,7,8,9,10]\n",
      "# now make the numpy array\n",
      "arr1 = np.array(ar1)\n",
      "arr2 = np.array(ar2)\n",
      "print arr1\n",
      "print arr2"
     ],
     "language": "python",
     "metadata": {},
     "outputs": [
      {
       "output_type": "stream",
       "stream": "stdout",
       "text": [
        "[1 2 3 4 5]\n",
        "[ 6  7  8  9 10]\n"
       ]
      }
     ],
     "prompt_number": 16
    },
    {
     "cell_type": "code",
     "collapsed": false,
     "input": [
      "#let's to vector operation \n",
      "#add the two vector\n",
      "add = np.add(arr1,arr2)\n",
      "print \"addition is\" ,\n",
      "print add\n",
      "\n",
      "#substract the two vector\n",
      "sub = np.subtract(arr1,arr2)\n",
      "print \"substraction is\" , \n",
      "print sub\n",
      "\n",
      "#take the element wise multiplcation\n",
      "prod = np.multiply(arr1, arr2)\n",
      "print \"product is\", \n",
      "print prod\n",
      "#or\n",
      "prod = arr1 * arr2\n",
      "print \"product is 2nd time\", \n",
      "print prod"
     ],
     "language": "python",
     "metadata": {},
     "outputs": [
      {
       "output_type": "stream",
       "stream": "stdout",
       "text": [
        "addition is [ 7  9 11 13 15]\n",
        "substraction is [-5 -5 -5 -5 -5]\n",
        "product is [ 6 14 24 36 50]\n",
        "product is 2nd time [ 6 14 24 36 50]\n"
       ]
      }
     ],
     "prompt_number": 25
    },
    {
     "cell_type": "markdown",
     "metadata": {},
     "source": [
      "##Generating arrays automatically"
     ]
    },
    {
     "cell_type": "code",
     "collapsed": false,
     "input": [
      "#generate array of zeros\n",
      "zeros = np.zeros(4) # take the dimension of array you want to create\n",
      "print zeros\n",
      "\n",
      "ones = np.ones(7)\n",
      "print ones"
     ],
     "language": "python",
     "metadata": {},
     "outputs": [
      {
       "output_type": "stream",
       "stream": "stdout",
       "text": [
        "[ 0.  0.  0.  0.]\n",
        "[ 1.  1.  1.  1.  1.  1.  1.]\n"
       ]
      }
     ],
     "prompt_number": 28
    },
    {
     "cell_type": "markdown",
     "metadata": {},
     "source": [
      "#Let's go 2d"
     ]
    },
    {
     "cell_type": "code",
     "collapsed": false,
     "input": [
      "#creates 2d matrix of zeros\n",
      "zeros = np.zeros((4,4))\n",
      "print zeros\n",
      "print zeros.shape"
     ],
     "language": "python",
     "metadata": {},
     "outputs": [
      {
       "output_type": "stream",
       "stream": "stdout",
       "text": [
        "[[ 0.  0.  0.  0.]\n",
        " [ 0.  0.  0.  0.]\n",
        " [ 0.  0.  0.  0.]\n",
        " [ 0.  0.  0.  0.]]\n",
        "(4, 4)\n"
       ]
      }
     ],
     "prompt_number": 30
    },
    {
     "cell_type": "code",
     "collapsed": false,
     "input": [
      "\n",
      "#ignore this line\n",
      "arr = np.random.randint(1,10,(4,4))\n",
      "print arr\n",
      "print\n",
      "print \"array2\"\n",
      "print\n",
      "arr2 = np.random.randint(1,10,(4,4))\n",
      "print arr2"
     ],
     "language": "python",
     "metadata": {},
     "outputs": [
      {
       "output_type": "stream",
       "stream": "stdout",
       "text": [
        "[[2 1 5 2]\n",
        " [6 1 9 3]\n",
        " [5 9 4 6]\n",
        " [7 6 5 1]]\n",
        "\n",
        "array2\n",
        "\n",
        "[[4 5 1 6]\n",
        " [7 3 8 9]\n",
        " [2 3 2 5]\n",
        " [5 6 6 7]]\n"
       ]
      }
     ],
     "prompt_number": 37
    },
    {
     "cell_type": "code",
     "collapsed": false,
     "input": [
      "#math op on 2d array\n",
      "#let's get the sum of all elements in arr\n",
      "print \"sum is\" + str(np.sum(arr))\n",
      "\n",
      "# sum for all element in a row\n",
      "print \"sum along row is\", \n",
      "print np.sum(arr, axis=0)\n",
      "\n",
      "print \"sum along columns\", \n",
      "print np.sum(arr,axis=1)\n",
      "\n",
      "#add a constant value to all elements of the matrix\n",
      "print arr\n",
      "print \"after adding\"\n",
      "print arr+2\n",
      "\n",
      "#how to calculate transpose of a matrix\n",
      "print \"transpose is\"\n",
      "print arr.T"
     ],
     "language": "python",
     "metadata": {},
     "outputs": [
      {
       "output_type": "stream",
       "stream": "stdout",
       "text": [
        "sum is72\n",
        "sum along row is [20 17 23 12]\n",
        "sum along columns [10 19 24 19]\n",
        "[[2 1 5 2]\n",
        " [6 1 9 3]\n",
        " [5 9 4 6]\n",
        " [7 6 5 1]]\n",
        "after adding\n",
        "[[ 4  3  7  4]\n",
        " [ 8  3 11  5]\n",
        " [ 7 11  6  8]\n",
        " [ 9  8  7  3]]\n",
        "transpose is\n",
        "[[2 6 5 7]\n",
        " [1 1 9 6]\n",
        " [5 9 4 5]\n",
        " [2 3 6 1]]\n"
       ]
      }
     ],
     "prompt_number": 49
    },
    {
     "cell_type": "code",
     "collapsed": false,
     "input": [
      "#let's see sum maths operation on 2d array\n",
      "#let's add the array\n",
      "total = arr + arr2\n",
      "print \"addition is\"\n",
      "print total\n"
     ],
     "language": "python",
     "metadata": {},
     "outputs": [
      {
       "output_type": "stream",
       "stream": "stdout",
       "text": [
        "addition is\n",
        "[[ 6  6  6  8]\n",
        " [13  4 17 12]\n",
        " [ 7 12  6 11]\n",
        " [12 12 11  8]]\n"
       ]
      }
     ],
     "prompt_number": 51
    },
    {
     "cell_type": "code",
     "collapsed": false,
     "input": [
      "\n",
      "#dot product of two matrix\n",
      "print arr\n",
      "print\n",
      "print arr2\n"
     ],
     "language": "python",
     "metadata": {},
     "outputs": [
      {
       "output_type": "stream",
       "stream": "stdout",
       "text": [
        "[[2 1 5 2]\n",
        " [6 1 9 3]\n",
        " [5 9 4 6]\n",
        " [7 6 5 1]]\n",
        "\n",
        "[[4 5 1 6]\n",
        " [7 3 8 9]\n",
        " [2 3 2 5]\n",
        " [5 6 6 7]]\n"
       ]
      }
     ],
     "prompt_number": 53
    },
    {
     "cell_type": "code",
     "collapsed": false,
     "input": [
      "#dimension of arr and arr2(4X4)\n",
      "print np.dot(arr,arr2)"
     ],
     "language": "python",
     "metadata": {},
     "outputs": [
      {
       "output_type": "stream",
       "stream": "stdout",
       "text": [
        "[[ 35  40  32  60]\n",
        " [ 64  78  50 111]\n",
        " [121 100 121 173]\n",
        " [ 85  74  71 128]]\n"
       ]
      }
     ],
     "prompt_number": 54
    },
    {
     "cell_type": "code",
     "collapsed": false,
     "input": [
      "#slicing op internet\n",
      "\n",
      "#one last complex function \n",
      "#hstack and vstack\n",
      "# add a column vector in existing array\n",
      "#make a column vector\n",
      "col = np.ones((4,1))\n",
      "print col\n",
      "print\n",
      "print arr\n",
      "\n",
      "#let's add this column vector as our first column in the arr\n",
      "\n",
      "newarr = np.hstack((col,arr))\n",
      "print\n",
      "print newarr"
     ],
     "language": "python",
     "metadata": {},
     "outputs": [
      {
       "output_type": "stream",
       "stream": "stdout",
       "text": [
        "[[ 1.]\n",
        " [ 1.]\n",
        " [ 1.]\n",
        " [ 1.]]\n",
        "\n",
        "[[2 1 5 2]\n",
        " [6 1 9 3]\n",
        " [5 9 4 6]\n",
        " [7 6 5 1]]\n",
        "\n",
        "[[ 1.  2.  1.  5.  2.]\n",
        " [ 1.  6.  1.  9.  3.]\n",
        " [ 1.  5.  9.  4.  6.]\n",
        " [ 1.  7.  6.  5.  1.]]\n"
       ]
      }
     ],
     "prompt_number": 59
    },
    {
     "cell_type": "code",
     "collapsed": false,
     "input": [
      "#similarly vstack\n",
      "row = np.ones((1,4))\n",
      "print np.vstack((row,arr))"
     ],
     "language": "python",
     "metadata": {},
     "outputs": [
      {
       "output_type": "stream",
       "stream": "stdout",
       "text": [
        "[[ 1.  1.  1.  1.]\n",
        " [ 2.  1.  5.  2.]\n",
        " [ 6.  1.  9.  3.]\n",
        " [ 5.  9.  4.  6.]\n",
        " [ 7.  6.  5.  1.]]\n"
       ]
      }
     ],
     "prompt_number": 60
    },
    {
     "cell_type": "markdown",
     "metadata": {},
     "source": [
      "## List of numpy functions"
     ]
    },
    {
     "cell_type": "code",
     "collapsed": false,
     "input": [
      "#create an empty array\n",
      "emptyArr = np.array([])\n",
      "\n",
      "#lets append some values\n",
      "arr = np.append(emptyArr,1)\n",
      "arr = np.append(arr,2)\n",
      "arr = np.append(arr,3)\n",
      "#now check the dimension of the array\n",
      "arr.shape\n",
      "\n",
      "#let's do some maths operation on our array\n",
      "#calcualte the sum\n",
      "total = np.sum(arr)\n",
      "\n",
      "#square root of individual elemets\n",
      "sqr = np.sqrt(arr)\n",
      "\n",
      "#create two arrays using another way\n",
      "ar1 = [1,2,3,4,5]\n",
      "ar2 = [6,7,8,9,10]\n",
      "# now make the numpy array\n",
      "arr1 = np.array(ar1)\n",
      "arr2 = np.array(ar2)\n",
      "\n",
      "#let's to vector operation \n",
      "#add the two vector\n",
      "add = np.add(arr1,arr2)\n",
      "\n",
      "#substract the two vector\n",
      "sub = np.subtract(arr1,arr2)\n",
      "\n",
      "#take the element wise multiplcation\n",
      "prod = np.multiply(arr1, arr2)\n",
      "\n",
      "#or\n",
      "prod = arr1 * arr2\n",
      "\n",
      "#generate array of zeros\n",
      "zeros = np.zeros(4) # take the dimension of array you want to create\n",
      "ones = np.ones(7)\n",
      "\n",
      "\n",
      "#creates 2d matrix of zeros\n",
      "zeros = np.zeros((4,4))\n",
      "#ignore this line\n",
      "arr = np.random.randint(1,10,(4,4))\n",
      "arr2 = np.random.randint(1,10,(4,4))\n",
      "\n",
      "\n",
      "#math op on 2d array\n",
      "#let's get the sum of all elements in arr\n",
      "np.sum(arr)\n",
      "\n",
      "\n",
      "#sum for all element in a row\n",
      "np.sum(arr, axis=0)\n",
      "#print \"sum along columns\"\n",
      "np.sum(arr,axis=1)\n",
      "\n",
      "\n",
      "#add a constant value to all elements of the matrix\n",
      "#arr\n",
      "#arr+2\n",
      "\n",
      "#how to calculate transpose of a matrix\n",
      "arr.T\n",
      "\n",
      "\n",
      "#let's see sum maths operation on 2d array\n",
      "#let's add the array\n",
      "total = arr + arr2\n",
      "\n",
      "#dimension of arr and arr2(4X4)\n",
      "np.dot(arr,arr2)\n",
      "\n",
      "#one last complex function \n",
      "#hstack and vstack\n",
      "# add a column vector in existing array\n",
      "#make a column vector\n",
      "col = np.ones((4,1))\n",
      "#let's add this column vector as our first column in the arr\n",
      "newarr = np.hstack((col,arr))\n",
      "\n",
      "#similarly vstack\n",
      "row = np.ones((1,4))\n",
      "newarr = np.vstack((row,arr))\n",
      "\n",
      "\n"
     ],
     "language": "python",
     "metadata": {},
     "outputs": [],
     "prompt_number": 65
    },
    {
     "cell_type": "markdown",
     "metadata": {},
     "source": [
      "#Enough preknowledge let's go to coding"
     ]
    },
    {
     "cell_type": "markdown",
     "metadata": {},
     "source": [
      "Let's recap our whole process\n",
      "Once we have the data\n",
      "steps  \n",
      "* add the 1st value to the vector (vectors of 1)\n",
      "* generate initial guess of our parameters\n",
      "* train our model \n",
      "    * calculate the predicted y using our current theta\n",
      "    * get the cost with the predicted y\n",
      "    * calculate the cost with respect to your parameters\n",
      "    * update the theta (gradient descent update)\n",
      "    * loop until training done\n",
      "    \n",
      "* Test your model\n"
     ]
    },
    {
     "cell_type": "markdown",
     "metadata": {},
     "source": [
      "## Let's first see our data"
     ]
    },
    {
     "cell_type": "code",
     "collapsed": false,
     "input": [
      "import pandas as pd"
     ],
     "language": "python",
     "metadata": {},
     "outputs": [],
     "prompt_number": 66
    },
    {
     "cell_type": "code",
     "collapsed": false,
     "input": [
      "raw = pd.read_csv('new.csv')\n",
      "print raw.head()"
     ],
     "language": "python",
     "metadata": {},
     "outputs": [
      {
       "output_type": "stream",
       "stream": "stdout",
       "text": [
        "         timstamp Company      Model  Company popu outof 5  model_rating  \\\n",
        "0  09-01-16 10:58   Apple  Iphone 5s                     5           4.0   \n",
        "1  09-01-16 19:46   Apple   Iphone 4                     5           2.0   \n",
        "2       Iphone 5s   Apple   Iphone 5                     5           3.5   \n",
        "3  09-01-16 22:38   Apple   Iphone 4                     5           2.0   \n",
        "4  09-03-16 23:23   Apple   Iphone 4                     5           2.0   \n",
        "\n",
        "   overall_rating  bought  used issues_summarized  issues on 5  \\\n",
        "0            20.0   22000    10              Hang          1.0   \n",
        "1            10.0   40000    19                No          0.0   \n",
        "2            17.5   50000    19              Hang          1.0   \n",
        "3            10.0   30000    19                No          0.0   \n",
        "4            10.0   20000    19           Battery          2.0   \n",
        "\n",
        "                                           issues    got  satisfaction  \n",
        "0  Phone used to lag/hang during usage, No issues  12000             9  \n",
        "1                                       No issues  12000             8  \n",
        "2             Phone used to lag/hang during usage   5000             5  \n",
        "3                                       No issues   5000             9  \n",
        "4     Battery used to drain abnormally, No issues   5000             8  \n"
       ]
      }
     ],
     "prompt_number": 70
    },
    {
     "cell_type": "code",
     "collapsed": false,
     "input": [
      "cleaned_train = pd.read_csv('cleaned_train.csv')\n",
      "print cleaned_train.head()"
     ],
     "language": "python",
     "metadata": {},
     "outputs": [
      {
       "output_type": "stream",
       "stream": "stdout",
       "text": [
        "   company_rating  model_rating  overall_rating  bought_at  months_used  \\\n",
        "0               2           5.0            10.0      11892            3   \n",
        "1               3           2.0             6.0      19421            6   \n",
        "2               2           3.0             6.0       6362            0   \n",
        "3               2           3.0             6.0       7157            8   \n",
        "4               4           3.0            12.0      18571            4   \n",
        "\n",
        "   issues_rating  resale_value  \n",
        "0            5.0          5586  \n",
        "1            3.0          6138  \n",
        "2            3.0          4205  \n",
        "3            2.5          3348  \n",
        "4            2.0          8867  \n"
       ]
      }
     ],
     "prompt_number": 71
    },
    {
     "cell_type": "markdown",
     "metadata": {},
     "source": [
      "So finally we have total 4 input features and, 1 ouput  \n",
      "4 features , rating, bought_at, months_used, issues_rating  \n",
      "and the output is the resale value"
     ]
    },
    {
     "cell_type": "markdown",
     "metadata": {},
     "source": [
      "**let's visualize with what format will we play with**"
     ]
    },
    {
     "cell_type": "code",
     "collapsed": false,
     "input": [
      "np.set_printoptions(suppress=True)\n",
      "y = np.array(cleaned_train['resale_value'])\n",
      "keys = ['overall_rating', 'bought_at', 'months_used', 'issues_rating']\n",
      "X = np.array(cleaned_train.get(keys))"
     ],
     "language": "python",
     "metadata": {},
     "outputs": [],
     "prompt_number": 76
    },
    {
     "cell_type": "code",
     "collapsed": false,
     "input": [
      "print X.shape\n",
      "print X[:10]"
     ],
     "language": "python",
     "metadata": {},
     "outputs": [
      {
       "output_type": "stream",
       "stream": "stdout",
       "text": [
        "(1050, 4)\n",
        "[[    10.   11892.       3.       5. ]\n",
        " [     6.   19421.       6.       3. ]\n",
        " [     6.    6362.       0.       3. ]\n",
        " [     6.    7157.       8.       2.5]\n",
        " [    12.   18571.       4.       2. ]\n",
        " [     9.   13335.      18.       2.5]\n",
        " [     6.   13392.      22.       0. ]\n",
        " [    14.   17389.      12.       3. ]\n",
        " [     9.   13095.       8.       1. ]\n",
        " [     4.    9163.      17.       3.5]]\n"
       ]
      }
     ],
     "prompt_number": 78
    },
    {
     "cell_type": "code",
     "collapsed": false,
     "input": [
      "print y[:10]"
     ],
     "language": "python",
     "metadata": {},
     "outputs": [
      {
       "output_type": "stream",
       "stream": "stdout",
       "text": [
        "[ 5586  6138  4205  3348  8867  4250  3799 10460  8212  2739]\n"
       ]
      }
     ],
     "prompt_number": 79
    },
    {
     "cell_type": "code",
     "collapsed": false,
     "input": [],
     "language": "python",
     "metadata": {},
     "outputs": [],
     "prompt_number": 79
    },
    {
     "cell_type": "code",
     "collapsed": false,
     "input": [],
     "language": "python",
     "metadata": {},
     "outputs": [],
     "prompt_number": 79
    },
    {
     "cell_type": "markdown",
     "metadata": {},
     "source": [
      "###Task 1"
     ]
    },
    {
     "cell_type": "markdown",
     "metadata": {},
     "source": [
      "* open LinearRegression.py\n",
      "* write appendIntercept\n",
      "\n",
      "This function basically appned a coulmn vector of 1 in front (why are we doing this because our 1st feature is 1) and returns the newly made vector"
     ]
    },
    {
     "cell_type": "code",
     "collapsed": false,
     "input": [
      "def appendIntercept(X):\n",
      "    pass"
     ],
     "language": "python",
     "metadata": {},
     "outputs": [],
     "prompt_number": 80
    },
    {
     "cell_type": "markdown",
     "metadata": {},
     "source": [
      "* write function initialGuess\n",
      "\n",
      "This function will take one argument that is number of parameters to be generated, and is expected to return an array of 0 of that size"
     ]
    },
    {
     "cell_type": "code",
     "collapsed": false,
     "input": [
      "def initialGuess(n_thetas):\n",
      "    pass"
     ],
     "language": "python",
     "metadata": {},
     "outputs": [],
     "prompt_number": 83
    },
    {
     "cell_type": "markdown",
     "metadata": {},
     "source": [
      "## Task 2\n",
      "* write the predict function, it will take X and theta as its parameter and will return predicted y\n",
      "* Before we write our train function we will write other functions that is being used by the train function\n",
      "* we will write costFunc methods first, it expects num_training examples, actual y , and the predicted y as the input (all in vector format) and is expected to return the cost associated with it (what will be the dimension?)"
     ]
    },
    {
     "cell_type": "code",
     "collapsed": false,
     "input": [
      "def predict(X,theta):\n",
      "    pass"
     ],
     "language": "python",
     "metadata": {},
     "outputs": [],
     "prompt_number": 85
    },
    {
     "cell_type": "code",
     "collapsed": false,
     "input": [
      "def costFunc(m, y, y_predicted):\n",
      "    pass"
     ],
     "language": "python",
     "metadata": {},
     "outputs": [],
     "prompt_number": 86
    },
    {
     "cell_type": "code",
     "collapsed": false,
     "input": [],
     "language": "python",
     "metadata": {},
     "outputs": [],
     "prompt_number": 86
    },
    {
     "cell_type": "markdown",
     "metadata": {},
     "source": [
      "## Task 3\n",
      "(on board)\n",
      "* write the calcGradient function which basically calculates the cost value with respect to each theta\n",
      "* takes X, y, y_predicted, m as its input(in vector form) and is expected to return the errors with respect to each param( what will be the dimension)\n"
     ]
    },
    {
     "cell_type": "code",
     "collapsed": false,
     "input": [
      "def calcGradients(X,y,y_predicted,m):\n",
      "    pass"
     ],
     "language": "python",
     "metadata": {},
     "outputs": [],
     "prompt_number": 87
    },
    {
     "cell_type": "markdown",
     "metadata": {},
     "source": [
      "## Task 4\n",
      "* write the makeGradientUpdate function , this function takes theta as the input and the learning rate and returns the updated theta"
     ]
    },
    {
     "cell_type": "code",
     "collapsed": false,
     "input": [
      "def makeGradientUpdate(theta,grads):\n",
      "    pass"
     ],
     "language": "python",
     "metadata": {},
     "outputs": [],
     "prompt_number": 88
    },
    {
     "cell_type": "markdown",
     "metadata": {},
     "source": [
      "## Task 5\n",
      "Let's put it together\n",
      "\n",
      "go to train function\n",
      "* it takes theta, X, y , model as input\n",
      "* loop for gradient descent\n",
      "    * predict y\n",
      "    * calculate the error (using calcCost)\n",
      "    * J.append(error)\n",
      "    * calculate the gradients by using calcGrads\n",
      "    * update theta using makeGradientUpdate function (make sure to overwrite the old theta)\n",
      "    * loop again"
     ]
    },
    {
     "cell_type": "markdown",
     "metadata": {},
     "source": [
      "## Let's train the model\n",
      "* run the python file LinearRegression.py\n",
      "* it will create a file in the models folder with the file name that is given\n",
      "* Now to test, just make the train flag to false and the error will be printed  \n",
      "Talk about the accuracy function  \n",
      "que: what is the relation between accuracy and model performance?"
     ]
    },
    {
     "cell_type": "markdown",
     "metadata": {},
     "source": [
      "## How to visualize the model performance\n",
      "* you can view the error vs iteration graph if its as expected then your model is good else you will have to tweak the parameter\n",
      "* Now to view this plot run the app and there is an option of view model (there your model is plotted)\n",
      "* I know the performance of this model is bad (becoz i set the parameters :p)"
     ]
    },
    {
     "cell_type": "markdown",
     "metadata": {},
     "source": [
      "## Final Task\n",
      "* build five model with different values of (learning rate and EPOCHS) and check the best one also not the accuracy of each model\n",
      "* don't forget to change the address of the model file in the file server.py (if you want to visualize the plot of the error)\n",
      "\n",
      "**Enjoy the app**"
     ]
    },
    {
     "cell_type": "markdown",
     "metadata": {},
     "source": [
      "## After you watch the videos (uptil multivariate)\n",
      "\n",
      "Can download this [house pricing](https://www.kaggle.com/c/house-prices-advanced-regression-techniques/data) data set and apply a linear regression model using [**scikit**](http://scikit-learn.org/) learn module"
     ]
    },
    {
     "cell_type": "markdown",
     "metadata": {},
     "source": [
      "##Feedback "
     ]
    },
    {
     "cell_type": "markdown",
     "metadata": {},
     "source": [
      "#Thank you!"
     ]
    },
    {
     "cell_type": "code",
     "collapsed": false,
     "input": [],
     "language": "python",
     "metadata": {},
     "outputs": []
    }
   ],
   "metadata": {}
  }
 ]
}